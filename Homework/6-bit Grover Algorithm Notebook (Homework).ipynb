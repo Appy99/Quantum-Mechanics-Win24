{
 "cells": [
  {
   "cell_type": "markdown",
   "id": "c1a3279c",
   "metadata": {},
   "source": [
    "# Submission Details: Please submit the jupyter notebook for this homework."
   ]
  },
  {
   "cell_type": "markdown",
   "id": "c14880ab",
   "metadata": {},
   "source": [
    "# Step 1: Import all the packages"
   ]
  },
  {
   "cell_type": "code",
   "execution_count": null,
   "id": "98c11efe",
   "metadata": {},
   "outputs": [],
   "source": [
    "################################################ Code for Example Problem ######################################################\n",
    "import numpy as np\n",
    "import warnings\n",
    "warnings.filterwarnings('ignore')\n",
    "%matplotlib inline\n",
    "import matplotlib.pyplot as plt\n",
    "from qiskit import BasicAer, IBMQ\n",
    "from qiskit import QuantumCircuit, ClassicalRegister, QuantumRegister, execute\n",
    "from qiskit.tools.visualization import plot_histogram\n",
    "!pip install pylatexenc"
   ]
  },
  {
   "cell_type": "markdown",
   "id": "1f566d29",
   "metadata": {},
   "source": [
    "# Step 1(a): Set the mask\n",
    "Mask can be defined as the 'query' phone number for which we want to know the name. You can define it here. Take any phone number of your choice."
   ]
  },
  {
   "cell_type": "code",
   "execution_count": null,
   "id": "cb52b861",
   "metadata": {},
   "outputs": [],
   "source": [
    "# Take any mask. Adjust the Oracle accordingly.\n",
    "mask = '110'"
   ]
  },
  {
   "cell_type": "markdown",
   "id": "3e735327-31d3-49ee-bcd3-e90251ef860d",
   "metadata": {},
   "source": [
    "#  Question 1: Define V transformation (10 pts). [Hint: This will be dependent on mask]"
   ]
  },
  {
   "cell_type": "markdown",
   "id": "0604c5cb-b2e8-452e-b219-5ef4a2331570",
   "metadata": {},
   "source": [
    "\n"
   ]
  },
  {
   "cell_type": "code",
   "execution_count": null,
   "id": "bf837366",
   "metadata": {},
   "outputs": [],
   "source": [
    "#Step 2: V - Transformation Function (The Oracle)\n",
    "def Vgate(circ,mask):\n",
    "    if mask == \"110\":\n",
    "        ########################\n",
    "        # Write your code here #\n",
    "        ########################\n",
    "    else:\n",
    "        print('The mask in not listed!')"
   ]
  },
  {
   "cell_type": "markdown",
   "id": "b73bbe00-ba09-4516-9685-3df1b4a3d028",
   "metadata": {},
   "source": [
    "# Question 2: Define W transformation (10 pts). [Hint: This will be independent of mask]"
   ]
  },
  {
   "cell_type": "code",
   "execution_count": null,
   "id": "cb0c3893",
   "metadata": {},
   "outputs": [],
   "source": [
    "# Step 3: W - Transformation Function (The Diffusor)\n",
    "def Wgate(circ):\n",
    "    ########################\n",
    "    # Write your code here #\n",
    "    ########################"
   ]
  },
  {
   "cell_type": "markdown",
   "id": "1fd2f0b8-d5e2-4a0c-89c2-a55a8f2e1d67",
   "metadata": {},
   "source": [
    "# Question 3: Create the Phonebook with numbers and names. Draw the circuit. Print or plot the Phonebook. (10 pts)"
   ]
  },
  {
   "cell_type": "code",
   "execution_count": null,
   "id": "97735c5f",
   "metadata": {},
   "outputs": [],
   "source": [
    "# Step 4: Input State Creation\n",
    "init = QuantumRegister(6, 'q') #6-bit register\n",
    "circ = QuantumCircuit(init) # Initializing the circuit\n",
    "\n",
    "########################\n",
    "# Write your code here #\n",
    "########################"
   ]
  },
  {
   "cell_type": "code",
   "execution_count": null,
   "id": "609c9e45",
   "metadata": {},
   "outputs": [],
   "source": [
    "# Show the circuit\n",
    "circ.draw()"
   ]
  },
  {
   "cell_type": "markdown",
   "id": "5cf5c458-86ca-4b01-9da4-b6a774dcc991",
   "metadata": {},
   "source": [
    "# Question 4: Apply V-W Transformations. Write the simulator section. Plot the probabilities of the output states to show Grover's Algorithm worked. Mention explicitly how many times the gates have been applied. (15 pts)"
   ]
  },
  {
   "cell_type": "markdown",
   "id": "462ea0d4-8e45-47d3-9a12-037ee8fe1566",
   "metadata": {},
   "source": [
    "Hint: You cannot blindly apply V-W gate."
   ]
  },
  {
   "cell_type": "code",
   "execution_count": null,
   "id": "42a56d0b",
   "metadata": {},
   "outputs": [],
   "source": [
    "# Step 5: Apply V-W Transformation (1st time)\n",
    "\n",
    "# Sample code to apply V gate followed by W gate first time #\n",
    "Vgate(circ,mask)\n",
    "Wgate(circ)\n",
    "\n",
    "# 2nd time\n",
    "#Vgate(circ,mask)\n",
    "#Wgate(circ)\n",
    "\n",
    "# 3rd time\n",
    "#Vgate(circ,mask)\n",
    "#Wgate(circ)\n",
    "\n",
    "# 4th time\n",
    "#Vgate(circ,mask)\n",
    "#Wgate(circ)"
   ]
  },
  {
   "cell_type": "code",
   "execution_count": null,
   "id": "8951d388",
   "metadata": {},
   "outputs": [],
   "source": [
    "# Step 6: Simulator\n",
    "backend = BasicAer.get_backend('statevector_simulator')\n",
    "job = execute(circ, backend)\n",
    "result = job.result()\n",
    "states = result.get_statevector(circ)"
   ]
  },
  {
   "cell_type": "code",
   "execution_count": null,
   "id": "b9710a75",
   "metadata": {},
   "outputs": [],
   "source": [
    "# Plot the probabilities of all the states\n",
    "########################\n",
    "# Write your code here #\n",
    "########################"
   ]
  },
  {
   "cell_type": "markdown",
   "id": "245ea33f",
   "metadata": {},
   "source": [
    "# Summarize your results (5 pts)"
   ]
  },
  {
   "cell_type": "code",
   "execution_count": null,
   "id": "f11c61fe-4507-4257-9f40-c24d980c934f",
   "metadata": {},
   "outputs": [],
   "source": [
    "# Write your answer here. Analyze the results. Explain your observations. #"
   ]
  }
 ],
 "metadata": {
  "kernelspec": {
   "display_name": "Python 3 (ipykernel)",
   "language": "python",
   "name": "python3"
  },
  "language_info": {
   "codemirror_mode": {
    "name": "ipython",
    "version": 3
   },
   "file_extension": ".py",
   "mimetype": "text/x-python",
   "name": "python",
   "nbconvert_exporter": "python",
   "pygments_lexer": "ipython3",
   "version": "3.9.18"
  }
 },
 "nbformat": 4,
 "nbformat_minor": 5
}
